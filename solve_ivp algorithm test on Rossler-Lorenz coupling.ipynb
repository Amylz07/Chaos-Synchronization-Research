{
 "cells": [
  {
   "cell_type": "code",
   "execution_count": null,
   "id": "bd4654d6-57e8-41f1-a84e-6185a6126217",
   "metadata": {},
   "outputs": [],
   "source": [
    "from matplotlib import pyplot as plt\n",
    "import numpy as np\n",
    "from scipy.integrate import solve_ivp\n",
    "from scipy import integrate\n",
    "\n",
    "\n",
    "def Rossler_Lorenz (t, X, a, b, c, sigma, beta, rho):\n",
    "    x1, y1, z1, x2, y2, z2 = X\n",
    "    dydt = [-y1 - z1, x1 + a*y1, b + x1*z1 - c*z1, -sigma * (x1 - y2), rho*x2 - y2 - x2*z2, -beta*z2 + x2*y2]\n",
    "    return dydt\n",
    "\n",
    "a = 0.2\n",
    "b = 0.2\n",
    "c = 6.3\n",
    "sigma = 10\n",
    "beta = 8/3\n",
    "rho = 25\n",
    "\n",
    "tStart = 0\n",
    "tEnd = 500\n",
    "\n",
    "X0 = [1.0, 1.0, 1.0, 0, 1, 1.05]\n",
    "solution = integrate.solve_ivp(Rossler_Lorenz, [tStart, tEnd], X0, method='RK45', t_eval=np.linspace(tStart,tEnd,50000), args=(a, b, c, sigma, beta, rho))\n",
    "\n",
    "plt.plot(solution.t, solution.y[0])\n",
    "plt.xlabel('t', fontsize=15)\n",
    "plt.ylabel('x1', fontsize=15)\n",
    "plt.show()"
   ]
  }
 ],
 "metadata": {
  "kernelspec": {
   "display_name": "Python 3 (ipykernel)",
   "language": "python",
   "name": "python3"
  },
  "language_info": {
   "codemirror_mode": {
    "name": "ipython",
    "version": 3
   },
   "file_extension": ".py",
   "mimetype": "text/x-python",
   "name": "python",
   "nbconvert_exporter": "python",
   "pygments_lexer": "ipython3",
   "version": "3.9.7"
  }
 },
 "nbformat": 4,
 "nbformat_minor": 5
}
