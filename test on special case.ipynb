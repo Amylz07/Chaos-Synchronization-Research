{
 "cells": [
  {
   "cell_type": "code",
   "execution_count": null,
   "id": "7cfc2f70-8525-404c-96a9-75c75b28efa7",
   "metadata": {},
   "outputs": [],
   "source": [
    "x1=[0,0,0,2,2]\n",
    "\n",
    "OD_x1 = ordpy.ordinal_distribution(x1, dx=4, dy=1, taux=1, tauy=1, return_missing=False, tie_precision=None)\n",
    "OP_x1 = OD_x1[1][0]\n",
    "print(OD_x1, OP_x1)"
   ]
  },
  {
   "cell_type": "code",
   "execution_count": null,
   "id": "142405c1-5d0f-4bab-bf65-051e10fe6e14",
   "metadata": {},
   "outputs": [],
   "source": [
    "data=x1\n",
    "ordinal_distribution=corrected_ordinal_distribution(data, dx=4, dy=1, taux=1, tauy=1)\n",
    "print(ordinal_distribution)"
   ]
  }
 ],
 "metadata": {
  "kernelspec": {
   "display_name": "Python 3 (ipykernel)",
   "language": "python",
   "name": "python3"
  },
  "language_info": {
   "codemirror_mode": {
    "name": "ipython",
    "version": 3
   },
   "file_extension": ".py",
   "mimetype": "text/x-python",
   "name": "python",
   "nbconvert_exporter": "python",
   "pygments_lexer": "ipython3",
   "version": "3.9.7"
  }
 },
 "nbformat": 4,
 "nbformat_minor": 5
}
